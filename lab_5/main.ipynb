{
 "cells": [
  {
   "attachments": {},
   "cell_type": "markdown",
   "metadata": {},
   "source": [
    "# Лабораторная работа №5. Классификатор"
   ]
  },
  {
   "attachments": {},
   "cell_type": "markdown",
   "metadata": {},
   "source": [
    "Используем написанный ранее автоэнокдер"
   ]
  },
  {
   "cell_type": "code",
   "execution_count": 9,
   "metadata": {},
   "outputs": [],
   "source": [
    "import torch\n",
    "import torch.nn as nn\n",
    "import torchvision\n",
    "\n",
    "train_dataset = torchvision.datasets.MNIST(root='./data', train=True, transform=torchvision.transforms.ToTensor(), download=True)\n",
    "test_dataset = torchvision.datasets.MNIST(root='./data', train=False, transform=torchvision.transforms.ToTensor(), download=True)\n",
    "\n",
    "train_loader = torch.utils.data.DataLoader(dataset=train_dataset, batch_size=128, shuffle=True)\n",
    "test_loader = torch.utils.data.DataLoader(dataset=test_dataset, batch_size=128, shuffle=False)\n",
    "\n",
    "class Autoencoder(nn.Module):\n",
    "    def __init__(self):\n",
    "        super(Autoencoder, self).__init__()\n",
    "        self.encoder = nn.Sequential(\n",
    "            nn.Linear(28*28, 128),\n",
    "            nn.ReLU(),\n",
    "            nn.Linear(128, 64),\n",
    "            nn.ReLU(),\n",
    "            nn.Linear(64, 16),\n",
    "            nn.ReLU())\n",
    "        self.decoder = nn.Sequential(\n",
    "            nn.Linear(16, 64),\n",
    "            nn.ReLU(),\n",
    "            nn.Linear(64, 128),\n",
    "            nn.ReLU(),\n",
    "            nn.Linear(128, 28*28),\n",
    "            nn.Sigmoid())\n",
    "        \n",
    "    def forward(self, x):\n",
    "        x = x.view(-1, 28*28)\n",
    "        x = self.encoder(x)\n",
    "        x = self.decoder(x)\n",
    "        x = x.view(-1, 1, 28, 28)\n",
    "        return x\n",
    "\n"
   ]
  },
  {
   "cell_type": "code",
   "execution_count": 10,
   "metadata": {},
   "outputs": [],
   "source": [
    "class Classifier(nn.Module):\n",
    "    def __init__(self):\n",
    "        super(Classifier, self).__init__()\n",
    "        self.fc1 = nn.Linear(16, 10)\n",
    "        self.softmax = nn.Softmax(dim=1)\n",
    "        \n",
    "    def forward(self, x):\n",
    "        x = x.view(-1, 16)\n",
    "        x = self.fc1(x)\n",
    "        x = self.softmax(x)\n",
    "        return x\n",
    "\n",
    "autoencoder = Autoencoder()\n",
    "classifier = Classifier()\n",
    "\n",
    "criterion = nn.MSELoss()\n",
    "autoencoder_optimizer = torch.optim.Adam(autoencoder.parameters(), lr=0.001)\n",
    "classifier_optimizer = torch.optim.Adam(classifier.parameters(), lr=0.001)\n",
    "\n",
    "num_epochs = 10"
   ]
  },
  {
   "attachments": {},
   "cell_type": "markdown",
   "metadata": {},
   "source": [
    "Тренируем автоэнкодер"
   ]
  },
  {
   "cell_type": "code",
   "execution_count": 11,
   "metadata": {},
   "outputs": [
    {
     "name": "stdout",
     "output_type": "stream",
     "text": [
      "Autoencoder - Epoch [1/10], Loss: 0.0400\n",
      "Autoencoder - Epoch [2/10], Loss: 0.0297\n",
      "Autoencoder - Epoch [3/10], Loss: 0.0267\n",
      "Autoencoder - Epoch [4/10], Loss: 0.0249\n",
      "Autoencoder - Epoch [5/10], Loss: 0.0227\n",
      "Autoencoder - Epoch [6/10], Loss: 0.0222\n",
      "Autoencoder - Epoch [7/10], Loss: 0.0215\n",
      "Autoencoder - Epoch [8/10], Loss: 0.0232\n",
      "Autoencoder - Epoch [9/10], Loss: 0.0202\n",
      "Autoencoder - Epoch [10/10], Loss: 0.0208\n"
     ]
    }
   ],
   "source": [
    "num_epochs = 10\n",
    "for epoch in range(num_epochs):\n",
    "    for data in train_loader:\n",
    "        img, _ = data\n",
    "        img = img.to(torch.device('cpu'))\n",
    "        output = autoencoder(img)\n",
    "        loss = criterion(output, img)\n",
    "        autoencoder_optimizer.zero_grad()\n",
    "        loss.backward()\n",
    "        autoencoder_optimizer.step()\n",
    "    print('Autoencoder - Epoch [{}/{}], Loss: {:.4f}'.format(epoch+1, num_epochs, loss.item()))\n"
   ]
  },
  {
   "attachments": {},
   "cell_type": "markdown",
   "metadata": {},
   "source": [
    "Используем данные энкодера и тренируем классификатор. Тренированный энкодер выделил основные признаки и понизил размерность исходных данных."
   ]
  },
  {
   "cell_type": "code",
   "execution_count": 12,
   "metadata": {},
   "outputs": [
    {
     "name": "stdout",
     "output_type": "stream",
     "text": [
      "Classifier - Epoch [1/10], Loss: 0.0477\n",
      "Classifier - Epoch [2/10], Loss: 0.0452\n",
      "Classifier - Epoch [3/10], Loss: 0.0374\n",
      "Classifier - Epoch [4/10], Loss: 0.0439\n",
      "Classifier - Epoch [5/10], Loss: 0.0245\n",
      "Classifier - Epoch [6/10], Loss: 0.0280\n",
      "Classifier - Epoch [7/10], Loss: 0.0331\n",
      "Classifier - Epoch [8/10], Loss: 0.0189\n",
      "Classifier - Epoch [9/10], Loss: 0.0216\n",
      "Classifier - Epoch [10/10], Loss: 0.0189\n",
      "MSE: 0.0203\n"
     ]
    }
   ],
   "source": [
    "num_epochs = 10\n",
    "for epoch in range(num_epochs):\n",
    "    for data in train_loader:\n",
    "        img, labels = data\n",
    "        img = img.to(torch.device('cpu'))\n",
    "        labels = labels.to(torch.device('cpu'))\n",
    "        encoded = autoencoder.encoder(img.view(-1, 28*28))\n",
    "        output = classifier(encoded)\n",
    "        loss = criterion(output, torch.nn.functional.one_hot(labels, num_classes=10).float())\n",
    "        classifier_optimizer.zero_grad()\n",
    "        loss.backward()\n",
    "        classifier_optimizer.step()\n",
    "    print('Classifier - Epoch [{}/{}], Loss: {:.4f}'.format(epoch+1, num_epochs, loss.item()))\n",
    "\n",
    "total_mse = 0.0\n",
    "total_samples = 0\n",
    "with torch.no_grad():\n",
    "    for data in test_loader:\n",
    "        img, labels = data\n",
    "        img = img.to(torch.device('cpu'))\n",
    "        labels = labels.to(torch.device('cpu'))\n",
    "        encoded = autoencoder.encoder(img.view(-1, 28*28))\n",
    "        output = classifier(encoded)\n",
    "        mse = criterion(output, torch.nn.functional.one_hot(labels, num_classes=10).float())\n",
    "        total_mse += mse.item() * img.shape[0]\n",
    "        total_samples += img.shape[0]\n",
    "print('MSE: {:.4f}'.format(total_mse / total_samples))\n"
   ]
  },
  {
   "attachments": {},
   "cell_type": "markdown",
   "metadata": {},
   "source": [
    "Найдём точность классификатора. Сравним известные метки из датасета и полученные с помощью классификатора."
   ]
  },
  {
   "cell_type": "code",
   "execution_count": 20,
   "metadata": {},
   "outputs": [
    {
     "name": "stdout",
     "output_type": "stream",
     "text": [
      "Accuracy: 0.8670\n"
     ]
    }
   ],
   "source": [
    "correct = 0\n",
    "total = 0\n",
    "with torch.no_grad():\n",
    "    for data in test_loader:\n",
    "        img, labels = data\n",
    "        img = img.to(torch.device('cpu'))\n",
    "        labels = labels.to(torch.device('cpu'))\n",
    "        encoded = autoencoder.encoder(img.view(-1, 28*28))\n",
    "        output = classifier(encoded)\n",
    "        _, predicted = torch.max(output.data, 1)\n",
    "        total += labels.size(0)\n",
    "        correct += (predicted == labels).sum().item()\n",
    "\n",
    "accuracy = correct / total\n",
    "print(f\"Accuracy: {accuracy}\")"
   ]
  },
  {
   "attachments": {},
   "cell_type": "markdown",
   "metadata": {},
   "source": [
    "Вывод: точность получилось высокая, однако её можно увеличить, если добавить дополнительные слои в автоэнкодер и классификатор, увеличить количество проходов обучения автоэнкодера и классификатора."
   ]
  }
 ],
 "metadata": {
  "kernelspec": {
   "display_name": "Python 3",
   "language": "python",
   "name": "python3"
  },
  "language_info": {
   "codemirror_mode": {
    "name": "ipython",
    "version": 3
   },
   "file_extension": ".py",
   "mimetype": "text/x-python",
   "name": "python",
   "nbconvert_exporter": "python",
   "pygments_lexer": "ipython3",
   "version": "3.11.3"
  },
  "orig_nbformat": 4
 },
 "nbformat": 4,
 "nbformat_minor": 2
}
