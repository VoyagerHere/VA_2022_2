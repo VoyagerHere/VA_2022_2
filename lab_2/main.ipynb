{
 "cells": [
  {
   "attachments": {},
   "cell_type": "markdown",
   "metadata": {},
   "source": [
    "# Лабораторная работа  №2\n"
   ]
  },
  {
   "attachments": {},
   "cell_type": "markdown",
   "metadata": {},
   "source": [
    "# Задача: Распознование рукописных изображений. Класстеризация датасета MNIST, измерение меток ARI."
   ]
  },
  {
   "cell_type": "code",
   "execution_count": 1,
   "metadata": {},
   "outputs": [],
   "source": [
    "from sklearn.cluster import KMeans, AgglomerativeClustering, DBSCAN\n",
    "from sklearn.metrics import adjusted_rand_score\n",
    "import numpy as np\n",
    "import torch\n",
    "from torchvision.datasets import MNIST\n",
    "from torchvision import transforms\n",
    "import matplotlib.pyplot as plt\n",
    "import numpy as np\n",
    "\n"
   ]
  },
  {
   "attachments": {},
   "cell_type": "markdown",
   "metadata": {},
   "source": [
    "Произведём k-means класстеризацию и сравним результат класстериазции с предсказанными центрами класстеров"
   ]
  },
  {
   "cell_type": "code",
   "execution_count": 20,
   "metadata": {},
   "outputs": [],
   "source": [
    "transform = transforms.Compose(\n",
    "    [transforms.ToTensor(),\n",
    "     transforms.Normalize((0.5,), (0.5,))])\n",
    "\n",
    "trainset = MNIST(root='./data', train=True, download=True, transform=transform)\n",
    "testset = MNIST(root='./data', train=False, download=True, transform=transform)\n",
    "\n",
    "train_data = trainset.data.reshape((-1, 28 * 28))\n",
    "test_data = testset.data.reshape((-1, 28 * 28))\n",
    "\n",
    "train_data = train_data.float() / 255.0\n",
    "test_data = test_data.float() / 255.0\n",
    "\n",
    "kmeans = KMeans(n_clusters=10, random_state=0)\n",
    "kmeans.fit(train_data)\n",
    "\n",
    "sample_indices = np.random.choice(len(test_data), size=1000, replace=False)\n",
    "sample_data = test_data[sample_indices]\n",
    "sample_labels = torch.tensor(kmeans.predict(sample_data))"
   ]
  },
  {
   "attachments": {},
   "cell_type": "markdown",
   "metadata": {},
   "source": [
    "Произведём DBCAN и Агломеративную кластеризации и подсчитаем ARI для всех методов"
   ]
  },
  {
   "cell_type": "code",
   "execution_count": 6,
   "metadata": {},
   "outputs": [],
   "source": [
    "test_labels = testset.targets\n"
   ]
  },
  {
   "cell_type": "code",
   "execution_count": 6,
   "metadata": {},
   "outputs": [
    {
     "name": "stdout",
     "output_type": "stream",
     "text": [
      "Agglomerative Clustering ARI:  0.6063391081376247\n"
     ]
    }
   ],
   "source": [
    "aggclust = AgglomerativeClustering(n_clusters=10)\n",
    "aggclust.fit(train_data)\n",
    "aggclust_predicted_labels = torch.tensor(aggclust.fit_predict(test_data))\n",
    "aggclust_ari = adjusted_rand_score(test_labels, aggclust_predicted_labels)\n",
    "\n",
    "print(\"Agglomerative Clustering ARI: \", aggclust_ari)"
   ]
  },
  {
   "cell_type": "code",
   "execution_count": 9,
   "metadata": {},
   "outputs": [
    {
     "name": "stdout",
     "output_type": "stream",
     "text": [
      "DBSCAN ARI:  0.014415031902686245\n"
     ]
    }
   ],
   "source": [
    "dbscan = DBSCAN(eps=6.0, min_samples=6)\n",
    "dbscan.fit(train_data)\n",
    "dbscan_predicted_labels = torch.tensor([np.where(dbscan.labels_ == i)[0][0] if i != -1 else -1 for i in dbscan.fit_predict(test_data)])\n",
    "dbscan_ari = adjusted_rand_score(test_labels, dbscan_predicted_labels)\n",
    "print(\"DBSCAN ARI: \", dbscan_ari)"
   ]
  },
  {
   "cell_type": "code",
   "execution_count": 7,
   "metadata": {},
   "outputs": [
    {
     "name": "stdout",
     "output_type": "stream",
     "text": [
      "K-means ARI:  0.3665407552476602\n"
     ]
    }
   ],
   "source": [
    "kmeans_predicted_labels = torch.tensor(kmeans.predict(test_data))\n",
    "kmeans_ari = adjusted_rand_score(test_labels, kmeans_predicted_labels)\n",
    "print(\"K-means ARI: \", kmeans_ari)"
   ]
  },
  {
   "attachments": {},
   "cell_type": "markdown",
   "metadata": {},
   "source": [
    "Таким образом была выолнена классетризация датасета MNIST и вычеслено значение ARI. \n",
    "Иеррахческая класстеризация получила самое высокое значение ARI.\n",
    "DBSCAN основанный на объединении значений высокой плотности в классетры получил очень маленькой значение ARI, так как происходит объединение значений не попавших в класстер, таким образом положение предсказанных класстеров сильно отличается от известных. "
   ]
  },
  {
   "cell_type": "code",
   "execution_count": 10,
   "metadata": {},
   "outputs": [
    {
     "data": {
      "image/png": "[encoded data removed]",
      "text/plain": [
       "<Figure size 1500x500 with 5 Axes>"
      ]
     },
     "metadata": {},
     "output_type": "display_data"
    }
   ],
   "source": [
    "sample_indices = [10, 20, 30, 40, 50]\n",
    "fig, axes = plt.subplots(nrows=1, ncols=len(sample_indices), figsize=(15, 5))\n",
    "\n",
    "for i, idx in enumerate(sample_indices):\n",
    "    image = testset[idx][0].numpy().squeeze()\n",
    "    axes[i].imshow(image, cmap='gray')\n",
    "    axes[i].axis('off')\n",
    "    axes[i].set_title('Label: {}\\nCluster: {}'.format(testset[idx][1], dbscan.labels_[idx]))\n",
    "\n",
    "plt.show()"
   ]
  }
 ],
 "metadata": {
  "kernelspec": {
   "display_name": "base",
   "language": "python",
   "name": "python3"
  },
  "language_info": {
   "codemirror_mode": {
    "name": "ipython",
    "version": 3
   },
   "file_extension": ".py",
   "mimetype": "text/x-python",
   "name": "python",
   "nbconvert_exporter": "python",
   "pygments_lexer": "ipython3",
   "version": "3.9.13"
  },
  "orig_nbformat": 4,
  "vscode": {
   "interpreter": {
    "hash": "a077222d77dfe082b8f1dd562ad70e458ac2ab76993a0b248ab0476e32e9e8dd"
   }
  }
 },
 "nbformat": 4,
 "nbformat_minor": 2
}
